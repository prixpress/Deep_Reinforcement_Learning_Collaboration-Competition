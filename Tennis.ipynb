{
 "cells": [
  {
   "cell_type": "markdown",
   "metadata": {},
   "source": [
    "# Collaboration and Competition\n",
    "\n",
    "---\n",
    "\n",
    "You are welcome to use this coding environment to train your agent for the project.  Follow the instructions below to get started!\n",
    "\n",
    "### 1. Start the Environment\n",
    "\n",
    "Run the next code cell to install a few packages.  This line will take a few minutes to run!"
   ]
  },
  {
   "cell_type": "code",
   "execution_count": 1,
   "metadata": {},
   "outputs": [],
   "source": [
    "!pip -q install ./python"
   ]
  },
  {
   "cell_type": "markdown",
   "metadata": {},
   "source": [
    "The environment is already saved in the Workspace and can be accessed at the file path provided below. "
   ]
  },
  {
   "cell_type": "code",
   "execution_count": 2,
   "metadata": {},
   "outputs": [
    {
     "name": "stderr",
     "output_type": "stream",
     "text": [
      "INFO:unityagents:\n",
      "'Academy' started successfully!\n",
      "Unity Academy name: Academy\n",
      "        Number of Brains: 1\n",
      "        Number of External Brains : 1\n",
      "        Lesson number : 0\n",
      "        Reset Parameters :\n",
      "\t\t\n",
      "Unity brain name: TennisBrain\n",
      "        Number of Visual Observations (per agent): 0\n",
      "        Vector Observation space type: continuous\n",
      "        Vector Observation space size (per agent): 8\n",
      "        Number of stacked Vector Observation: 3\n",
      "        Vector Action space type: continuous\n",
      "        Vector Action space size (per agent): 2\n",
      "        Vector Action descriptions: , \n"
     ]
    }
   ],
   "source": [
    "from unityagents import UnityEnvironment\n",
    "import numpy as np\n",
    "\n",
    "env = UnityEnvironment(file_name=\"/data/Tennis_Linux_NoVis/Tennis\")"
   ]
  },
  {
   "cell_type": "markdown",
   "metadata": {},
   "source": [
    "Environments contain **_brains_** which are responsible for deciding the actions of their associated agents. Here we check for the first brain available, and set it as the default brain we will be controlling from Python."
   ]
  },
  {
   "cell_type": "code",
   "execution_count": 3,
   "metadata": {},
   "outputs": [],
   "source": [
    "# get the default brain\n",
    "brain_name = env.brain_names[0]\n",
    "brain = env.brains[brain_name]"
   ]
  },
  {
   "cell_type": "markdown",
   "metadata": {},
   "source": [
    "### 2. Examine the State and Action Spaces\n",
    "\n",
    "Run the code cell below to print some information about the environment."
   ]
  },
  {
   "cell_type": "code",
   "execution_count": 4,
   "metadata": {},
   "outputs": [
    {
     "name": "stdout",
     "output_type": "stream",
     "text": [
      "Number of agents: 2\n",
      "Size of each action: 2\n",
      "There are 2 agents. Each observes a state with length: 24\n",
      "The state for the first agent looks like: [ 0.          0.          0.          0.          0.          0.          0.\n",
      "  0.          0.          0.          0.          0.          0.          0.\n",
      "  0.          0.         -6.65278625 -1.5        -0.          0.\n",
      "  6.83172083  6.         -0.          0.        ]\n"
     ]
    }
   ],
   "source": [
    "# reset the environment\n",
    "env_info = env.reset(train_mode=True)[brain_name]\n",
    "\n",
    "# number of agents \n",
    "num_agents = len(env_info.agents)\n",
    "print('Number of agents:', num_agents)\n",
    "\n",
    "# size of each action\n",
    "action_size = brain.vector_action_space_size\n",
    "print('Size of each action:', action_size)\n",
    "\n",
    "# examine the state space \n",
    "states = env_info.vector_observations\n",
    "state_size = states.shape[1]\n",
    "print('There are {} agents. Each observes a state with length: {}'.format(states.shape[0], state_size))\n",
    "print('The state for the first agent looks like:', states[0])"
   ]
  },
  {
   "cell_type": "markdown",
   "metadata": {},
   "source": [
    "### 3. Take Random Actions in the Environment\n",
    "\n",
    "In the next code cell, you will learn how to use the Python API to control the agent and receive feedback from the environment.\n",
    "\n",
    "Note that **in this coding environment, you will not be able to watch the agents while they are training**, and you should set `train_mode=True` to restart the environment."
   ]
  },
  {
   "cell_type": "code",
   "execution_count": 5,
   "metadata": {},
   "outputs": [
    {
     "name": "stdout",
     "output_type": "stream",
     "text": [
      "Total score (averaged over agents) this episode: -0.004999999888241291\n",
      "Total score (averaged over agents) this episode: -0.004999999888241291\n",
      "Total score (averaged over agents) this episode: -0.004999999888241291\n",
      "Total score (averaged over agents) this episode: -0.004999999888241291\n",
      "Total score (averaged over agents) this episode: -0.004999999888241291\n"
     ]
    }
   ],
   "source": [
    "for i in range(5):                                         # play game for 5 episodes\n",
    "    env_info = env.reset(train_mode=False)[brain_name]     # reset the environment    \n",
    "    states = env_info.vector_observations                  # get the current state (for each agent)\n",
    "    scores = np.zeros(num_agents)                          # initialize the score (for each agent)\n",
    "    while True:\n",
    "        actions = np.random.randn(num_agents, action_size) # select an action (for each agent)\n",
    "        actions = np.clip(actions, -1, 1)                  # all actions between -1 and 1\n",
    "        env_info = env.step(actions)[brain_name]           # send all actions to tne environment\n",
    "        next_states = env_info.vector_observations         # get next state (for each agent)\n",
    "        rewards = env_info.rewards                         # get reward (for each agent)\n",
    "        dones = env_info.local_done                        # see if episode finished\n",
    "        scores += env_info.rewards                         # update the score (for each agent)\n",
    "        states = next_states                               # roll over states to next time step\n",
    "        if np.any(dones):                                  # exit loop if episode finished\n",
    "            break\n",
    "    print('Total score (averaged over agents) this episode: {}'.format(np.mean(scores)))"
   ]
  },
  {
   "cell_type": "markdown",
   "metadata": {},
   "source": [
    "### 4. It's Your Turn!\n",
    "\n",
    "Now it's your turn to train your own agent to solve the environment!  A few **important notes**:\n",
    "- When training the environment, set `train_mode=True`, so that the line for resetting the environment looks like the following:\n",
    "```python\n",
    "env_info = env.reset(train_mode=True)[brain_name]\n",
    "```\n",
    "- To structure your work, you're welcome to work directly in this Jupyter notebook, or you might like to start over with a new file!  You can see the list of files in the workspace by clicking on **_Jupyter_** in the top left corner of the notebook.\n",
    "- In this coding environment, you will not be able to watch the agents while they are training.  However, **_after training the agents_**, you can download the saved model weights to watch the agents on your own machine! "
   ]
  },
  {
   "cell_type": "markdown",
   "metadata": {},
   "source": [
    "### 5. Train the Agent with DDPG\n",
    "Run the code cell below to train the agent from scratch. You are welcome to amend the supplied values of the parameters in the function, to try to see if you can get better performance! Alternatively, you can skip to the next step below (6. Watch a Smart Agent!), to load the saved model weights from a pre-trained agent. "
   ]
  },
  {
   "cell_type": "code",
   "execution_count": 6,
   "metadata": {
    "scrolled": false
   },
   "outputs": [
    {
     "name": "stdout",
     "output_type": "stream",
     "text": [
      "Episode 100\tAverage Score: 0.00\tMax Average Score: 0.00\n",
      "Episode 200\tAverage Score: 0.00\tMax Average Score: 0.00\n",
      "Episode 300\tAverage Score: 0.00\tMax Average Score: 0.00\n",
      "Episode 400\tAverage Score: 0.00\tMax Average Score: 0.00\n",
      "Episode 500\tAverage Score: 0.01\tMax Average Score: 0.00\n",
      "Episode 600\tAverage Score: 0.01\tMax Average Score: 0.01\n",
      "Episode 700\tAverage Score: 0.01\tMax Average Score: 0.01\n",
      "Episode 800\tAverage Score: 0.01\tMax Average Score: 0.01\n",
      "Episode 900\tAverage Score: 0.01\tMax Average Score: 0.01\n",
      "Episode 1000\tAverage Score: 0.04\tMax Average Score: 0.01\n",
      "Episode 1100\tAverage Score: 0.09\tMax Average Score: 0.04\n",
      "Episode 1200\tAverage Score: 0.14\tMax Average Score: 0.09\n",
      "Episode 1300\tAverage Score: 0.16\tMax Average Score: 0.14\n",
      "Episode 1371\tAverage Score: 0.50\n",
      "Environment solved in 1371 episodes!\tAverage Score: 0.50\n",
      "Episode 1400\tAverage Score: 0.75\tMax Average Score: 0.16\n",
      "Episode 1500\tAverage Score: 1.55\tMax Average Score: 0.75\n",
      "Episode 1600\tAverage Score: 1.22\tMax Average Score: 1.55\n",
      "Episode 1700\tAverage Score: 1.04\tMax Average Score: 1.55\n",
      "Episode 1800\tAverage Score: 1.46\tMax Average Score: 1.55\n",
      "Episode 1900\tAverage Score: 1.45\tMax Average Score: 1.55\n",
      "Episode 2000\tAverage Score: 1.99\tMax Average Score: 1.55\n"
     ]
    },
    {
     "data": {
      "image/png": "[encoded data removed]",
      "text/plain": [
       "<matplotlib.figure.Figure at 0x7f82c3dc6b70>"
      ]
     },
     "metadata": {
      "needs_background": "light"
     },
     "output_type": "display_data"
    }
   ],
   "source": [
    "from unityagents import UnityEnvironment\n",
    "import numpy as np\n",
    "import torch\n",
    "from collections import deque\n",
    "import matplotlib.pyplot as plt\n",
    "from ddpg_agent import Agent\n",
    "%matplotlib inline\n",
    "\n",
    "\n",
    "def ddpg(n_episodes=2000, max_t=1000, print_every=100):\n",
    "    \"\"\"Deep Deterministic Policy Gradients Learning.\n",
    "    \n",
    "    Params\n",
    "    ======\n",
    "        n_episodes (int): maximum number of training episodes\n",
    "        max_t (int): maximum number of timesteps per episode\n",
    "        print_every (int): frequency of printing/saving the state of the learning\n",
    "    \"\"\"    \n",
    "    scores_list = []                           # list containing scores from each episode\n",
    "    scores_window = deque(maxlen=print_every)  \n",
    "    mean_scores = []                           # mean scores\n",
    "    solved=False                                \n",
    "    max_score=0.0                              \n",
    "\n",
    "    for i_episode in range(1, n_episodes+1):\n",
    "        env_info = env.reset(train_mode=True)[brain_name]  # enable training\n",
    "        states = env_info.vector_observations              # state\n",
    "        scores = np.zeros(num_agents)                      # scores \n",
    "        agent.reset()                                      # reset the agent \n",
    "        for t in range(max_t):\n",
    "            actions = agent.act(states)                    # agent actions \n",
    "            env_info = env.step(actions)[brain_name]       # actions to the environment\n",
    "            next_states = env_info.vector_observations     # next set of states\n",
    "            rewards = env_info.rewards                     # rewards\n",
    "            done = env_info.local_done                     \n",
    "            agent.step(states,actions,rewards,next_states,done)\n",
    "            states = next_states\n",
    "            scores += rewards                                # add the rewards\n",
    "            if np.any(done):\n",
    "                break\n",
    "        score=np.max(scores)                   # maximum score between two players \n",
    "        scores_window.append(score)            # most recent score for averaging\n",
    "        scores_list.append(score)              # save most recent score\n",
    "        mean_score = np.mean(scores_window)    # calculate the mean score for the current window\n",
    "        mean_scores.append(mean_score)         # save that mean score\n",
    "        print('\\rEpisode {}\\tAverage Score: {:.2f}'.format(i_episode, mean_score), end=\"\")\n",
    "        # Save the learning state every 'print_every' episodes\n",
    "        if i_episode % print_every == 0:\n",
    "            print('\\rEpisode {}\\tAverage Score: {:.2f}\\tMax Average Score: {:.2f}'.format(i_episode, np.mean(scores_window),max_score))\n",
    "            torch.save(agent.actor_local.state_dict(), 'checkpoint_actor.pth')\n",
    "            torch.save(agent.critic_local.state_dict(), 'checkpoint_critic.pth')\n",
    "            # if a new maximum average score had been reached => save it and the network state\n",
    "            if(max_score<mean_score):\n",
    "                torch.save(agent.actor_local.state_dict(), 'checkpoint_actor_max.pth')\n",
    "                torch.save(agent.critic_local.state_dict(), 'checkpoint_critic_max.pth')\n",
    "                max_score=mean_score\n",
    "        # If the desired score is achieved, save the learning state\n",
    "        if mean_score>=0.5 and not(solved):\n",
    "            solved=True\n",
    "            print('\\nEnvironment solved in {:d} episodes!\\tAverage Score: {:.2f}'.format(i_episode, np.mean(scores_window)))\n",
    "            torch.save(agent.actor_local.state_dict(), 'checkpoint_actor_done.pth')\n",
    "            torch.save(agent.critic_local.state_dict(), 'checkpoint_critic_done.pth')\n",
    "    return scores_list,mean_scores\n",
    "\n",
    "\n",
    "# initialize the agent\n",
    "agent = Agent(state_size=state_size, action_size=action_size, num_agents = num_agents, random_seed=42)\n",
    "\n",
    "# train\n",
    "scores_list,mean_scores = ddpg()\n",
    "\n",
    "# plot the scores\n",
    "fig = plt.figure()\n",
    "ax = fig.add_subplot(111)\n",
    "plt.plot(np.arange(1, len(scores_list)+1), scores_list)\n",
    "plt.plot(np.arange(1, len(mean_scores)+1), mean_scores)\n",
    "plt.axhline(y=0.5, color='r', linestyle='-')\n",
    "plt.ylabel('Score')\n",
    "plt.xlabel('Episode #')\n",
    "plt.show()"
   ]
  },
  {
   "cell_type": "markdown",
   "metadata": {},
   "source": [
    "### 6. Watch a Smart Agent!\n",
    "In the next code cell, you will load the trained weights from file to watch a smart agent!"
   ]
  },
  {
   "cell_type": "code",
   "execution_count": 7,
   "metadata": {},
   "outputs": [
    {
     "name": "stdout",
     "output_type": "stream",
     "text": [
      "Current Score:\tAgent 1:0.40\tAgent 2:0.29\n",
      "Maximum score: 0.40\n"
     ]
    }
   ],
   "source": [
    "# From lecture DDPG code from Udacity DRN nanodegree\n",
    "from unityagents import UnityEnvironment\n",
    "import numpy as np\n",
    "import torch\n",
    "from collections import deque\n",
    "import matplotlib.pyplot as plt\n",
    "from ddpg_agent import Agent\n",
    "\n",
    "# get the default brain\n",
    "brain_name = env.brain_names[0]\n",
    "brain = env.brains[brain_name]\n",
    "\n",
    "# initialize the agent\n",
    "agent = Agent(state_size=24, action_size=2, num_agents=2, random_seed=42)\n",
    "\n",
    "# load the weights from files\n",
    "agent.actor_local.load_state_dict(torch.load('checkpoint_actor_max.pth'))\n",
    "agent.critic_local.load_state_dict(torch.load('checkpoint_critic_max.pth'))\n",
    "\n",
    "env_info = env.reset(train_mode=False)[brain_name]  # disable training\n",
    "states = env_info.vector_observations               # current states\n",
    "scores = np.zeros(2)                                \n",
    "while True:\n",
    "    actions = agent.act(states)                     # actions from the agent\n",
    "    env_info = env.step(actions)[brain_name]        # actions to the environment\n",
    "    states = env_info.vector_observations           # next set of states\n",
    "    rewards = env_info.rewards                      # rewards\n",
    "    done = np.any(env_info.local_done)              # see if episode has finished\n",
    "    scores += rewards                               # update the score\n",
    "    print('\\rCurrent Score:\\tAgent 1:{:.2f}\\tAgent 2:{:.2f}'.format(scores[0],scores[1]), end=\"\") # print current score\n",
    "    if done:                                        # exit loop if episode finished\n",
    "        break\n",
    "print('\\nMaximum score: {:.2f}'.format(np.max(scores)))"
   ]
  },
  {
   "cell_type": "markdown",
   "metadata": {},
   "source": [
    "When finished, you can close the environment."
   ]
  },
  {
   "cell_type": "code",
   "execution_count": null,
   "metadata": {},
   "outputs": [],
   "source": [
    "env.close()"
   ]
  }
 ],
 "metadata": {
  "kernelspec": {
   "display_name": "Python 3",
   "language": "python",
   "name": "python3"
  },
  "language_info": {
   "codemirror_mode": {
    "name": "ipython",
    "version": 3
   },
   "file_extension": ".py",
   "mimetype": "text/x-python",
   "name": "python",
   "nbconvert_exporter": "python",
   "pygments_lexer": "ipython3",
   "version": "3.6.3"
  }
 },
 "nbformat": 4,
 "nbformat_minor": 2
}
